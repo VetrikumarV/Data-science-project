{
  "cells": [
    {
      "cell_type": "code",
      "execution_count": null,
      "id": "dda3b2d2",
      "metadata": {
        "_cell_guid": "b1076dfc-b9ad-4769-8c92-a6c4dae69d19",
        "_uuid": "8f2839f25d086af736a60e9eeb907d3b93b6e0e5",
        "execution": {
          "iopub.execute_input": "2024-12-08T07:59:05.372974Z",
          "iopub.status.busy": "2024-12-08T07:59:05.371794Z",
          "iopub.status.idle": "2024-12-08T07:59:07.720057Z",
          "shell.execute_reply": "2024-12-08T07:59:07.718946Z"
        },
        "papermill": {
          "duration": 2.356968,
          "end_time": "2024-12-08T07:59:07.722523",
          "exception": false,
          "start_time": "2024-12-08T07:59:05.365555",
          "status": "completed"
        },
        "tags": [],
        "id": "dda3b2d2"
      },
      "outputs": [],
      "source": [
        "#1. Loading and Preprocessing the Data:\n",
        "\n",
        "'''import statements: Import necessary libraries like pandas, numpy, sklearn, string, and re.\n",
        "Loading the dataset: Loads a CSV file containing emails labeled as spam or not spam using pd.read_csv.'''\n",
        "\n",
        "import numpy as np # linear algebra\n",
        "import pandas as pd # data processing, CSV file I/O (e.g. pd.read_csv)\n",
        "from sklearn.feature_extraction.text import CountVectorizer\n",
        "import string\n",
        "import re\n",
        "import os"
      ]
    },
    {
      "cell_type": "markdown",
      "id": "40b30925",
      "metadata": {
        "papermill": {
          "duration": 0.003032,
          "end_time": "2024-12-08T07:59:07.729235",
          "exception": false,
          "start_time": "2024-12-08T07:59:07.726203",
          "status": "completed"
        },
        "tags": [],
        "id": "40b30925"
      },
      "source": [
        "# Loading the Data set"
      ]
    },
    {
      "cell_type": "code",
      "execution_count": null,
      "id": "3d16426a",
      "metadata": {
        "execution": {
          "iopub.execute_input": "2024-12-08T07:59:07.737590Z",
          "iopub.status.busy": "2024-12-08T07:59:07.736964Z",
          "iopub.status.idle": "2024-12-08T07:59:07.907101Z",
          "shell.execute_reply": "2024-12-08T07:59:07.905652Z"
        },
        "papermill": {
          "duration": 0.176965,
          "end_time": "2024-12-08T07:59:07.909335",
          "exception": false,
          "start_time": "2024-12-08T07:59:07.732370",
          "status": "completed"
        },
        "tags": [],
        "colab": {
          "base_uri": "https://localhost:8080/",
          "height": 206
        },
        "id": "3d16426a",
        "outputId": "fc49dd9b-71ac-4d08-90de-7acce1d9e0e2"
      },
      "outputs": [
        {
          "output_type": "execute_result",
          "data": {
            "text/plain": [
              "                                               email  label\n",
              "0   date wed NUMBER aug NUMBER NUMBER NUMBER NUMB...      0\n",
              "1  martin a posted tassos papadopoulos the greek ...      0\n",
              "2  man threatens explosion in moscow thursday aug...      0\n",
              "3  klez the virus that won t die already the most...      0\n",
              "4   in adding cream to spaghetti carbonara which ...      0"
            ],
            "text/html": [
              "\n",
              "  <div id=\"df-4c481b99-602c-4806-a192-0e8e05ffabd2\" class=\"colab-df-container\">\n",
              "    <div>\n",
              "<style scoped>\n",
              "    .dataframe tbody tr th:only-of-type {\n",
              "        vertical-align: middle;\n",
              "    }\n",
              "\n",
              "    .dataframe tbody tr th {\n",
              "        vertical-align: top;\n",
              "    }\n",
              "\n",
              "    .dataframe thead th {\n",
              "        text-align: right;\n",
              "    }\n",
              "</style>\n",
              "<table border=\"1\" class=\"dataframe\">\n",
              "  <thead>\n",
              "    <tr style=\"text-align: right;\">\n",
              "      <th></th>\n",
              "      <th>email</th>\n",
              "      <th>label</th>\n",
              "    </tr>\n",
              "  </thead>\n",
              "  <tbody>\n",
              "    <tr>\n",
              "      <th>0</th>\n",
              "      <td>date wed NUMBER aug NUMBER NUMBER NUMBER NUMB...</td>\n",
              "      <td>0</td>\n",
              "    </tr>\n",
              "    <tr>\n",
              "      <th>1</th>\n",
              "      <td>martin a posted tassos papadopoulos the greek ...</td>\n",
              "      <td>0</td>\n",
              "    </tr>\n",
              "    <tr>\n",
              "      <th>2</th>\n",
              "      <td>man threatens explosion in moscow thursday aug...</td>\n",
              "      <td>0</td>\n",
              "    </tr>\n",
              "    <tr>\n",
              "      <th>3</th>\n",
              "      <td>klez the virus that won t die already the most...</td>\n",
              "      <td>0</td>\n",
              "    </tr>\n",
              "    <tr>\n",
              "      <th>4</th>\n",
              "      <td>in adding cream to spaghetti carbonara which ...</td>\n",
              "      <td>0</td>\n",
              "    </tr>\n",
              "  </tbody>\n",
              "</table>\n",
              "</div>\n",
              "    <div class=\"colab-df-buttons\">\n",
              "\n",
              "  <div class=\"colab-df-container\">\n",
              "    <button class=\"colab-df-convert\" onclick=\"convertToInteractive('df-4c481b99-602c-4806-a192-0e8e05ffabd2')\"\n",
              "            title=\"Convert this dataframe to an interactive table.\"\n",
              "            style=\"display:none;\">\n",
              "\n",
              "  <svg xmlns=\"http://www.w3.org/2000/svg\" height=\"24px\" viewBox=\"0 -960 960 960\">\n",
              "    <path d=\"M120-120v-720h720v720H120Zm60-500h600v-160H180v160Zm220 220h160v-160H400v160Zm0 220h160v-160H400v160ZM180-400h160v-160H180v160Zm440 0h160v-160H620v160ZM180-180h160v-160H180v160Zm440 0h160v-160H620v160Z\"/>\n",
              "  </svg>\n",
              "    </button>\n",
              "\n",
              "  <style>\n",
              "    .colab-df-container {\n",
              "      display:flex;\n",
              "      gap: 12px;\n",
              "    }\n",
              "\n",
              "    .colab-df-convert {\n",
              "      background-color: #E8F0FE;\n",
              "      border: none;\n",
              "      border-radius: 50%;\n",
              "      cursor: pointer;\n",
              "      display: none;\n",
              "      fill: #1967D2;\n",
              "      height: 32px;\n",
              "      padding: 0 0 0 0;\n",
              "      width: 32px;\n",
              "    }\n",
              "\n",
              "    .colab-df-convert:hover {\n",
              "      background-color: #E2EBFA;\n",
              "      box-shadow: 0px 1px 2px rgba(60, 64, 67, 0.3), 0px 1px 3px 1px rgba(60, 64, 67, 0.15);\n",
              "      fill: #174EA6;\n",
              "    }\n",
              "\n",
              "    .colab-df-buttons div {\n",
              "      margin-bottom: 4px;\n",
              "    }\n",
              "\n",
              "    [theme=dark] .colab-df-convert {\n",
              "      background-color: #3B4455;\n",
              "      fill: #D2E3FC;\n",
              "    }\n",
              "\n",
              "    [theme=dark] .colab-df-convert:hover {\n",
              "      background-color: #434B5C;\n",
              "      box-shadow: 0px 1px 3px 1px rgba(0, 0, 0, 0.15);\n",
              "      filter: drop-shadow(0px 1px 2px rgba(0, 0, 0, 0.3));\n",
              "      fill: #FFFFFF;\n",
              "    }\n",
              "  </style>\n",
              "\n",
              "    <script>\n",
              "      const buttonEl =\n",
              "        document.querySelector('#df-4c481b99-602c-4806-a192-0e8e05ffabd2 button.colab-df-convert');\n",
              "      buttonEl.style.display =\n",
              "        google.colab.kernel.accessAllowed ? 'block' : 'none';\n",
              "\n",
              "      async function convertToInteractive(key) {\n",
              "        const element = document.querySelector('#df-4c481b99-602c-4806-a192-0e8e05ffabd2');\n",
              "        const dataTable =\n",
              "          await google.colab.kernel.invokeFunction('convertToInteractive',\n",
              "                                                    [key], {});\n",
              "        if (!dataTable) return;\n",
              "\n",
              "        const docLinkHtml = 'Like what you see? Visit the ' +\n",
              "          '<a target=\"_blank\" href=https://colab.research.google.com/notebooks/data_table.ipynb>data table notebook</a>'\n",
              "          + ' to learn more about interactive tables.';\n",
              "        element.innerHTML = '';\n",
              "        dataTable['output_type'] = 'display_data';\n",
              "        await google.colab.output.renderOutput(dataTable, element);\n",
              "        const docLink = document.createElement('div');\n",
              "        docLink.innerHTML = docLinkHtml;\n",
              "        element.appendChild(docLink);\n",
              "      }\n",
              "    </script>\n",
              "  </div>\n",
              "\n",
              "\n",
              "<div id=\"df-d6948be6-17d7-45d7-8a73-d4ade5520413\">\n",
              "  <button class=\"colab-df-quickchart\" onclick=\"quickchart('df-d6948be6-17d7-45d7-8a73-d4ade5520413')\"\n",
              "            title=\"Suggest charts\"\n",
              "            style=\"display:none;\">\n",
              "\n",
              "<svg xmlns=\"http://www.w3.org/2000/svg\" height=\"24px\"viewBox=\"0 0 24 24\"\n",
              "     width=\"24px\">\n",
              "    <g>\n",
              "        <path d=\"M19 3H5c-1.1 0-2 .9-2 2v14c0 1.1.9 2 2 2h14c1.1 0 2-.9 2-2V5c0-1.1-.9-2-2-2zM9 17H7v-7h2v7zm4 0h-2V7h2v10zm4 0h-2v-4h2v4z\"/>\n",
              "    </g>\n",
              "</svg>\n",
              "  </button>\n",
              "\n",
              "<style>\n",
              "  .colab-df-quickchart {\n",
              "      --bg-color: #E8F0FE;\n",
              "      --fill-color: #1967D2;\n",
              "      --hover-bg-color: #E2EBFA;\n",
              "      --hover-fill-color: #174EA6;\n",
              "      --disabled-fill-color: #AAA;\n",
              "      --disabled-bg-color: #DDD;\n",
              "  }\n",
              "\n",
              "  [theme=dark] .colab-df-quickchart {\n",
              "      --bg-color: #3B4455;\n",
              "      --fill-color: #D2E3FC;\n",
              "      --hover-bg-color: #434B5C;\n",
              "      --hover-fill-color: #FFFFFF;\n",
              "      --disabled-bg-color: #3B4455;\n",
              "      --disabled-fill-color: #666;\n",
              "  }\n",
              "\n",
              "  .colab-df-quickchart {\n",
              "    background-color: var(--bg-color);\n",
              "    border: none;\n",
              "    border-radius: 50%;\n",
              "    cursor: pointer;\n",
              "    display: none;\n",
              "    fill: var(--fill-color);\n",
              "    height: 32px;\n",
              "    padding: 0;\n",
              "    width: 32px;\n",
              "  }\n",
              "\n",
              "  .colab-df-quickchart:hover {\n",
              "    background-color: var(--hover-bg-color);\n",
              "    box-shadow: 0 1px 2px rgba(60, 64, 67, 0.3), 0 1px 3px 1px rgba(60, 64, 67, 0.15);\n",
              "    fill: var(--button-hover-fill-color);\n",
              "  }\n",
              "\n",
              "  .colab-df-quickchart-complete:disabled,\n",
              "  .colab-df-quickchart-complete:disabled:hover {\n",
              "    background-color: var(--disabled-bg-color);\n",
              "    fill: var(--disabled-fill-color);\n",
              "    box-shadow: none;\n",
              "  }\n",
              "\n",
              "  .colab-df-spinner {\n",
              "    border: 2px solid var(--fill-color);\n",
              "    border-color: transparent;\n",
              "    border-bottom-color: var(--fill-color);\n",
              "    animation:\n",
              "      spin 1s steps(1) infinite;\n",
              "  }\n",
              "\n",
              "  @keyframes spin {\n",
              "    0% {\n",
              "      border-color: transparent;\n",
              "      border-bottom-color: var(--fill-color);\n",
              "      border-left-color: var(--fill-color);\n",
              "    }\n",
              "    20% {\n",
              "      border-color: transparent;\n",
              "      border-left-color: var(--fill-color);\n",
              "      border-top-color: var(--fill-color);\n",
              "    }\n",
              "    30% {\n",
              "      border-color: transparent;\n",
              "      border-left-color: var(--fill-color);\n",
              "      border-top-color: var(--fill-color);\n",
              "      border-right-color: var(--fill-color);\n",
              "    }\n",
              "    40% {\n",
              "      border-color: transparent;\n",
              "      border-right-color: var(--fill-color);\n",
              "      border-top-color: var(--fill-color);\n",
              "    }\n",
              "    60% {\n",
              "      border-color: transparent;\n",
              "      border-right-color: var(--fill-color);\n",
              "    }\n",
              "    80% {\n",
              "      border-color: transparent;\n",
              "      border-right-color: var(--fill-color);\n",
              "      border-bottom-color: var(--fill-color);\n",
              "    }\n",
              "    90% {\n",
              "      border-color: transparent;\n",
              "      border-bottom-color: var(--fill-color);\n",
              "    }\n",
              "  }\n",
              "</style>\n",
              "\n",
              "  <script>\n",
              "    async function quickchart(key) {\n",
              "      const quickchartButtonEl =\n",
              "        document.querySelector('#' + key + ' button');\n",
              "      quickchartButtonEl.disabled = true;  // To prevent multiple clicks.\n",
              "      quickchartButtonEl.classList.add('colab-df-spinner');\n",
              "      try {\n",
              "        const charts = await google.colab.kernel.invokeFunction(\n",
              "            'suggestCharts', [key], {});\n",
              "      } catch (error) {\n",
              "        console.error('Error during call to suggestCharts:', error);\n",
              "      }\n",
              "      quickchartButtonEl.classList.remove('colab-df-spinner');\n",
              "      quickchartButtonEl.classList.add('colab-df-quickchart-complete');\n",
              "    }\n",
              "    (() => {\n",
              "      let quickchartButtonEl =\n",
              "        document.querySelector('#df-d6948be6-17d7-45d7-8a73-d4ade5520413 button');\n",
              "      quickchartButtonEl.style.display =\n",
              "        google.colab.kernel.accessAllowed ? 'block' : 'none';\n",
              "    })();\n",
              "  </script>\n",
              "</div>\n",
              "\n",
              "    </div>\n",
              "  </div>\n"
            ],
            "application/vnd.google.colaboratory.intrinsic+json": {
              "type": "dataframe",
              "variable_name": "data",
              "summary": "{\n  \"name\": \"data\",\n  \"rows\": 3000,\n  \"fields\": [\n    {\n      \"column\": \"email\",\n      \"properties\": {\n        \"dtype\": \"string\",\n        \"num_unique_values\": 2872,\n        \"samples\": [\n          \"i ve seen articles on this type of stuff passing through various forums for several years i ve always found archaeology interesting for no particular reason here is a recent article from u s news that i actually still have in the dank recesses of my virtual repository james rogers jamesr URL URL defrosting the past ancient human and animal remains are melting out of glaciers a bounty of a warming world by alex markels as he hiked near colorado s continental divide in the summer of NUMBER ed knapp noticed a strange shape jutting from a melting ice field at NUMBER NUMBER feet it looked like a bison skull the building contractor and amateur archaeologist recalls i thought that s strange bison don t live this high up knapp brought the skull to the denver museum of nature and science where scientists last month announced that it was indeed from a bison one that died about NUMBER years ago this was an extraordinary discovery says russ graham the museum s chief curator adding that it could alter notions of the mountain environment centuries ago there s probably a lot more like it yet to be found and not just bison colorado isn t the only place where glaciers and snowfields are melting decades of unusual warmth in regions from peru to alaska a trend some think is linked to emissions from cars and industry have shrunk or thawed many of the world s NUMBER NUMBER glaciers as the ice recedes a treasure trove of human and animal artifacts is emerging extraordinarily well preserved after centuries in the deep freeze the fabrics wood bone and dna rich tissue found on the mucky fringes of the ice are revising scientists understanding of our predecessors health habits and technology and the prey they pursued it s mind boggling how many different fields are being advanced through studying these remains says johan reinhard a high altitude archaeologist and explorer in residence at the national geographic society rare spectacular finds like the frozen mummies he discovered in the andes of peru in the NUMBERs and the legendary NUMBER NUMBER year old ice man found at the edge of a receding glacier in the alps in NUMBER have offered time capsules of cultural and biological information now as the ice continues to retreat it is yielding not just occasional treasures but long records of humans and animals in the high mountains vanishing act the trick is finding such specimens before mother nature and looters take them first once uncovered frozen remains can deteriorate within hours or be gnawed by animals moreover they re often so well preserved when they emerge that people who come upon them don t even realize they re ancient that was the case when three men hunting sheep near a high glacier in british columbia canada three years ago saw what they thought was a dead animal it looked a little like sealskin buried in the ice recalls warren ward a teacher from nearby nelson but when i looked closer i could see leather fringe from a coat and finger bones figuring they had found the remains of another hunter or perhaps a fur trapper the men stowed a flint knife and other artifacts in a zip loc bag and delivered them to local officials archaeologists later exhumed the fallen hunter s body along with a woven hat fur clothing and what seemed to be a medicine bag carbon dating revealed that the hunter lived about NUMBER years ago dubbed kwaday dan ts inchi or long ago person found by people of the champagne and aishihik first nations who may be his direct descendants he is perhaps the best preserved human from the period ever found in north america other findings from melting ice in the neighboring yukon region could explain what that long ago person was doing in the mountains in the first place before this there was no archaeological record of people living here says greg hare a yukon government archaeologist now we see that this area was very much part of people s seasonal activities like ward s discovery the search began by chance when kristin benedek caught a whiff of what smelled like a barnyard as she and her husband gerry kuzyk hunted sheep at NUMBER NUMBER feet in the mountains of the south yukon they followed the scent to a melting patch of ice covered in caribou dung it was really odd because i knew there hadn t been caribou in the area for at least NUMBER years recalls kuzyk then a wildlife biologist with the yukon government caribou cake returning a week later he found what looked like a pencil with string wrapped around it it turned out to be a NUMBER NUMBER year old atlatl or spear thrower further investigation of the ice patch and scores of others around the region revealed icy layer cakes filled with caribou remains and human detritus chronicling NUMBER NUMBER years of changing hunting practices scientists now believe ancient caribou and other animals flocked to the ice each summer to cool down and escape swarming mosquitoes and flies hunters followed the game they returned for centuries and discarded some equipment in the ice we ve got people hunting with throwing darts up until NUMBER NUMBER years ago says hare who now oversees the research project then we see the first appearance of the bow and arrow about NUMBER NUMBER years ago and by NUMBER NUMBER years ago there s no more throwing darts now scientists are trying to make the search less a matter of luck they are developing sophisticated computer models that combine data on where glaciers are melting fastest and where humans and animals are known to have migrated to pinpoint the best places to search in alaska s wrangell and st elias mountain ranges the united states most glaciated terrain and in the andes johan reinhard thinks the fast thawing european alps could also deliver more findings perhaps as exquisite as the ice man global warming is providing us high altitude archaeologists with some fantastic opportunities right now we re probably about the only ones happy about it \",\n          \" hyperlink legal teen xxx hardcoreNUMBER free boy was gauge surprised when joey s friend conveniently showed up as things were getting hot she always dreamed of sucking two cocks while she played with herself during study hall but fantasy is different than reality i wonder if she ever gave a thought to where those dicks would end up after they were done with her mouth find out for NUMBER free at legal teen girls we just added gauge s three way you have to see it we have tons of other sweet young teens getting it in ways they never imagined possible for free hyperlink click here for your NUMBER free lifetime membership disclaimer we are strongly against sending unsolicited emails to those who do not wish to receive our special mailings you have opted in to one or more of our affiliate sites requesting to be notified of any special offers we may run from time to time we also have attained the services of an independent NUMBERrd party to overlook list management and removal services this is not unsolicited email if you do not wish to receive further mailings please hyperlink click here to be removed from the list please accept our apologies if you have been sent this email in error we honor all removal requests \",\n          \"if anyone here is running null beta then you may like these gnome theme packages they are enhanced and repackages from my previous theme packs this time to conform to the way pre release rhNUMBER handles themes for gtkNUMBER and gtkNUMBER redhat has a preferences themes app but themes only show up there that have both gtkNUMBER NUMBER gnomeNUMBER themes and gtkNUMBER NUMBER gtkNUMBER aka gnomeNUMBER themes available then rh will apply the theme to both gtk versions so the user does not really notice that different gtk toolkit versions are being used since they should look the same this gtkNUMBER engines compat rpm has gtkNUMBER ported themes for those themes that are included in the rh package gtk engines themes pack for gtkNUMBER the gtkNUMBER NUMBER themez pack mostly repackages my previous theme rpms in a way that the null btea like and supposedly the next rhNUMBER when released forward original mail from angles puglisi angles aminvestments com date NUMBER NUMBER NUMBER NUMBER NUMBER NUMBER am subject some null eyecandy packages \"\n        ],\n        \"semantic_type\": \"\",\n        \"description\": \"\"\n      }\n    },\n    {\n      \"column\": \"label\",\n      \"properties\": {\n        \"dtype\": \"number\",\n        \"std\": 0,\n        \"min\": 0,\n        \"max\": 1,\n        \"num_unique_values\": 2,\n        \"samples\": [\n          1,\n          0\n        ],\n        \"semantic_type\": \"\",\n        \"description\": \"\"\n      }\n    }\n  ]\n}"
            }
          },
          "metadata": {},
          "execution_count": 11
        }
      ],
      "source": [
        "\n",
        "data = pd.read_csv(\"/content/spam_or_not_spam.csv\")\n",
        "data.head()"
      ]
    },
    {
      "cell_type": "markdown",
      "id": "e2979d73",
      "metadata": {
        "papermill": {
          "duration": 0.00327,
          "end_time": "2024-12-08T07:59:07.916253",
          "exception": false,
          "start_time": "2024-12-08T07:59:07.912983",
          "status": "completed"
        },
        "tags": [],
        "id": "e2979d73"
      },
      "source": [
        "# 2) Preprocess the data ( e.g lowercase, removing punctuation, special characters etc.) and also handle any missing values."
      ]
    },
    {
      "cell_type": "code",
      "execution_count": null,
      "id": "e60e46ab",
      "metadata": {
        "execution": {
          "iopub.execute_input": "2024-12-08T07:59:07.925270Z",
          "iopub.status.busy": "2024-12-08T07:59:07.924861Z",
          "iopub.status.idle": "2024-12-08T07:59:08.079445Z",
          "shell.execute_reply": "2024-12-08T07:59:08.078046Z"
        },
        "papermill": {
          "duration": 0.162023,
          "end_time": "2024-12-08T07:59:08.082061",
          "exception": false,
          "start_time": "2024-12-08T07:59:07.920038",
          "status": "completed"
        },
        "tags": [],
        "colab": {
          "base_uri": "https://localhost:8080/"
        },
        "id": "e60e46ab",
        "outputId": "bcdad9b4-d65b-44ca-9691-4b2a2460d985"
      },
      "outputs": [
        {
          "output_type": "stream",
          "name": "stdout",
          "text": [
            "Preprocessing completed. Sample data:\n",
            "                                               email  label\n",
            "0   date wed number aug number number number numb...      0\n",
            "1  martin a posted tassos papadopoulos the greek ...      0\n",
            "2  man threatens explosion in moscow thursday aug...      0\n",
            "3  klez the virus that won t die already the most...      0\n",
            "4   in adding cream to spaghetti carbonara which ...      0\n"
          ]
        }
      ],
      "source": [
        "# 2) Preprocess the data\n",
        "# Lowercase all text\n",
        "data[\"email\"] = data[\"email\"].astype(str).str.lower()\n",
        "\n",
        "# Remove punctuation and special characters\n",
        "data[\"email\"] = data[\"email\"].apply(lambda x: re.sub(f\"[{string.punctuation}]\", \"\", x))\n",
        "\n",
        "# Remove numeric characters\n",
        "data[\"email\"] = data[\"email\"].apply(lambda x: re.sub(\"\\\\d+\", \"\", x))\n",
        "\n",
        "# Handle missing values\n",
        "data.dropna(inplace=True)\n",
        "\n",
        "# Check preprocessing\n",
        "print(\"Preprocessing completed. Sample data:\")\n",
        "print(data.head())"
      ]
    },
    {
      "cell_type": "markdown",
      "id": "19302d47",
      "metadata": {
        "papermill": {
          "duration": 0.00409,
          "end_time": "2024-12-08T07:59:08.090254",
          "exception": false,
          "start_time": "2024-12-08T07:59:08.086164",
          "status": "completed"
        },
        "tags": [],
        "id": "19302d47"
      },
      "source": []
    },
    {
      "cell_type": "markdown",
      "id": "67d3670b",
      "metadata": {
        "papermill": {
          "duration": 0.005267,
          "end_time": "2024-12-08T07:59:08.099461",
          "exception": false,
          "start_time": "2024-12-08T07:59:08.094194",
          "status": "completed"
        },
        "tags": [],
        "id": "67d3670b"
      },
      "source": [
        "# 3) Make unigrams and bigrams of the preprocessed data."
      ]
    },
    {
      "cell_type": "code",
      "execution_count": null,
      "id": "50864a5d",
      "metadata": {
        "execution": {
          "iopub.execute_input": "2024-12-08T07:59:08.109451Z",
          "iopub.status.busy": "2024-12-08T07:59:08.108536Z",
          "iopub.status.idle": "2024-12-08T07:59:11.381894Z",
          "shell.execute_reply": "2024-12-08T07:59:11.380068Z"
        },
        "papermill": {
          "duration": 3.281554,
          "end_time": "2024-12-08T07:59:11.384911",
          "exception": false,
          "start_time": "2024-12-08T07:59:08.103357",
          "status": "completed"
        },
        "tags": [],
        "colab": {
          "base_uri": "https://localhost:8080/"
        },
        "id": "50864a5d",
        "outputId": "caa5fe93-6207-44b8-a911-6e3cd77e47ee"
      },
      "outputs": [
        {
          "output_type": "stream",
          "name": "stdout",
          "text": [
            "Extracted 264143 features (unigrams and bigrams).\n"
          ]
        }
      ],
      "source": [
        "# 3) Make unigrams and bigrams\n",
        "vectorizer = CountVectorizer(ngram_range=(1, 2))  # unigrams and bigrams\n",
        "X = vectorizer.fit_transform(data[\"email\"])\n",
        "\n",
        "# Get unigram and bigram features\n",
        "features = vectorizer.get_feature_names_out()\n",
        "print(f\"Extracted {len(features)} features (unigrams and bigrams).\")"
      ]
    },
    {
      "cell_type": "markdown",
      "id": "8233dfa4",
      "metadata": {
        "papermill": {
          "duration": 0.004851,
          "end_time": "2024-12-08T07:59:11.396743",
          "exception": false,
          "start_time": "2024-12-08T07:59:11.391892",
          "status": "completed"
        },
        "tags": [],
        "id": "8233dfa4"
      },
      "source": [
        "# 4) Calculate the probability of these unigrams and bigrams."
      ]
    },
    {
      "cell_type": "code",
      "execution_count": null,
      "id": "f23c9a5d",
      "metadata": {
        "execution": {
          "iopub.execute_input": "2024-12-08T07:59:11.411947Z",
          "iopub.status.busy": "2024-12-08T07:59:11.411328Z",
          "iopub.status.idle": "2024-12-08T07:59:22.916051Z",
          "shell.execute_reply": "2024-12-08T07:59:22.915008Z"
        },
        "papermill": {
          "duration": 11.515693,
          "end_time": "2024-12-08T07:59:22.918675",
          "exception": false,
          "start_time": "2024-12-08T07:59:11.402982",
          "status": "completed"
        },
        "tags": [],
        "id": "f23c9a5d"
      },
      "outputs": [],
      "source": [
        "# 4) Calculate probabilities for unigrams and bigrams\n",
        "# Convert X to a dense array\n",
        "X_dense = X.toarray()\n",
        "\n",
        "# Get probabilities by class\n",
        "spam_probs = X_dense[data[\"label\"] == 1].sum(axis=0) / X_dense[data[\"label\"] == 1].sum()\n",
        "not_spam_probs = X_dense[data[\"label\"] == 0].sum(axis=0) / X_dense[data[\"label\"] == 0].sum()\n",
        "\n",
        "# Map probabilities to feature names\n",
        "probabilities = {\n",
        "    \"spam\": dict(zip(features, spam_probs)),\n",
        "    \"not_spam\": dict(zip(features, not_spam_probs))\n",
        "}"
      ]
    },
    {
      "cell_type": "markdown",
      "id": "12bbd29d",
      "metadata": {
        "papermill": {
          "duration": 0.003443,
          "end_time": "2024-12-08T07:59:22.926258",
          "exception": false,
          "start_time": "2024-12-08T07:59:22.922815",
          "status": "completed"
        },
        "tags": [],
        "id": "12bbd29d"
      },
      "source": [
        "#\n",
        "5) Define a function that:    \n",
        "1. Takes a user-defined sentence:\n",
        "The function should accept a sentence from the user (at least 5 words).\n",
        "2. Preprocess and Tokenize the Sentence:\n",
        "We need to clean the text (lowercase, remove punctuation) and then split the sentence into individual words (unigrams) and word pairs (bigrams).\n",
        "3. Compute the Posterior Probability:\n",
        "Using the Bayes' theorem, we compute the probability of the sentence belonging to each class (spam or not spam) based on the unigrams and bigrams.\n",
        "4. Predict the Class:\n",
        "The class with the highest posterior probability is the predicted class for the sentence.\n"
      ]
    },
    {
      "cell_type": "code",
      "execution_count": null,
      "id": "83455288",
      "metadata": {
        "execution": {
          "iopub.execute_input": "2024-12-08T07:59:22.935280Z",
          "iopub.status.busy": "2024-12-08T07:59:22.934806Z",
          "iopub.status.idle": "2024-12-08T07:59:22.943169Z",
          "shell.execute_reply": "2024-12-08T07:59:22.941867Z"
        },
        "papermill": {
          "duration": 0.015723,
          "end_time": "2024-12-08T07:59:22.945419",
          "exception": false,
          "start_time": "2024-12-08T07:59:22.929696",
          "status": "completed"
        },
        "tags": [],
        "id": "83455288"
      },
      "outputs": [],
      "source": [
        "# 5) Define the prediction function\n",
        "def predict_email_class(email):\n",
        "    # Preprocess email\n",
        "    email = email.lower()\n",
        "    email = re.sub(f\"[{string.punctuation}]\", \"\", email)\n",
        "    email = re.sub(\"\\\\d+\", \"\", email)\n",
        "\n",
        "    # Tokenize and create n-grams\n",
        "    tokens = email.split()\n",
        "    unigrams = tokens\n",
        "    bigrams = [\" \".join(tokens[i:i+2]) for i in range(len(tokens) - 1)]\n",
        "    ngrams = unigrams + bigrams\n",
        "\n",
        "    # Compute posterior probabilities\n",
        "    spam_score = 1.0\n",
        "    not_spam_score = 1.0\n",
        "\n",
        "    for ngram in ngrams:\n",
        "        spam_score *= probabilities[\"spam\"].get(ngram, 1e-5)  # Small value for unseen n-grams\n",
        "        not_spam_score *= probabilities[\"not_spam\"].get(ngram, 1e-5)\n",
        "\n",
        "    # Predict class\n",
        "    if spam_score > not_spam_score:\n",
        "        return 1  # Spam\n",
        "    else:\n",
        "        return 0  # Not spam"
      ]
    },
    {
      "cell_type": "markdown",
      "id": "25b5b627",
      "metadata": {
        "papermill": {
          "duration": 0.003454,
          "end_time": "2024-12-08T07:59:22.952878",
          "exception": false,
          "start_time": "2024-12-08T07:59:22.949424",
          "status": "completed"
        },
        "tags": [],
        "id": "25b5b627"
      },
      "source": [
        "# 6) Test the function with at least three user-defined sentences."
      ]
    },
    {
      "cell_type": "code",
      "source": [
        "# 6) Test the function with sample sentences\n",
        "test_sentences = [\n",
        "\"Congratulations! You've won a free vacation to the Bahamas. Claim your prize now!\",\n",
        "\"Hello, your bank account has been compromised. Click here to secure your account.\",\n",
        "\"Reminder: Your subscription will be renewed automatically tomorrow.\",\n",
        "\"Hey! I found a great deal on smartphones, check it out!\",\n",
        "\"Hey, can we discuss the new project timeline tomorrow?\",\n",
        "\"Urgent! Your account will be locked unless you update your details within 24 hours.\",\n",
        "\"Get rich quick with this amazing investment opportunity. Don't miss out!\",\n",
        "\"Your email storage is almost full. Upgrade now to avoid losing data.\"\n",
        "]"
      ],
      "metadata": {
        "id": "dQXr1wVNzmTW"
      },
      "id": "dQXr1wVNzmTW",
      "execution_count": null,
      "outputs": []
    },
    {
      "cell_type": "code",
      "execution_count": null,
      "id": "1a6bcf17",
      "metadata": {
        "execution": {
          "iopub.execute_input": "2024-12-08T07:59:22.978857Z",
          "iopub.status.busy": "2024-12-08T07:59:22.977745Z",
          "iopub.status.idle": "2024-12-08T07:59:22.985293Z",
          "shell.execute_reply": "2024-12-08T07:59:22.983622Z"
        },
        "papermill": {
          "duration": 0.014742,
          "end_time": "2024-12-08T07:59:22.987550",
          "exception": false,
          "start_time": "2024-12-08T07:59:22.972808",
          "status": "completed"
        },
        "tags": [],
        "colab": {
          "base_uri": "https://localhost:8080/"
        },
        "id": "1a6bcf17",
        "outputId": "8cc5353d-973b-4c15-d937-d393cfa89976"
      },
      "outputs": [
        {
          "output_type": "stream",
          "name": "stdout",
          "text": [
            "Sentence: Congratulations! You've won a free vacation to the Bahamas. Claim your prize now! => Predicted Label: Spam\n",
            "Sentence: Hello, your bank account has been compromised. Click here to secure your account. => Predicted Label: Not Spam\n",
            "Sentence: Reminder: Your subscription will be renewed automatically tomorrow. => Predicted Label: Not Spam\n",
            "Sentence: Hey! I found a great deal on smartphones, check it out! => Predicted Label: Not Spam\n",
            "Sentence: Hey, can we discuss the new project timeline tomorrow? => Predicted Label: Not Spam\n",
            "Sentence: Urgent! Your account will be locked unless you update your details within 24 hours. => Predicted Label: Not Spam\n",
            "Sentence: Get rich quick with this amazing investment opportunity. Don't miss out! => Predicted Label: Spam\n",
            "Sentence: Your email storage is almost full. Upgrade now to avoid losing data. => Predicted Label: Not Spam\n"
          ]
        }
      ],
      "source": [
        "results = {sentence: predict_email_class(sentence) for sentence in test_sentences}\n",
        "\n",
        "# Display results\n",
        "for sentence, result in results.items():\n",
        "    label = \"Spam\" if result == 1 else \"Not Spam\"\n",
        "    print(f\"Sentence: {sentence} => Predicted Label: {label}\")"
      ]
    },
    {
      "cell_type": "code",
      "execution_count": null,
      "id": "ad475edb",
      "metadata": {
        "papermill": {
          "duration": 0.003536,
          "end_time": "2024-12-08T07:59:22.994722",
          "exception": false,
          "start_time": "2024-12-08T07:59:22.991186",
          "status": "completed"
        },
        "tags": [],
        "id": "ad475edb"
      },
      "outputs": [],
      "source": []
    }
  ],
  "metadata": {
    "kaggle": {
      "accelerator": "none",
      "dataSources": [
        {
          "datasetId": 91827,
          "sourceId": 213216,
          "sourceType": "datasetVersion"
        }
      ],
      "dockerImageVersionId": 30804,
      "isGpuEnabled": false,
      "isInternetEnabled": true,
      "language": "python",
      "sourceType": "notebook"
    },
    "kernelspec": {
      "display_name": "Python 3",
      "language": "python",
      "name": "python3"
    },
    "language_info": {
      "codemirror_mode": {
        "name": "ipython",
        "version": 3
      },
      "file_extension": ".py",
      "mimetype": "text/x-python",
      "name": "python",
      "nbconvert_exporter": "python",
      "pygments_lexer": "ipython3",
      "version": "3.10.14"
    },
    "papermill": {
      "default_parameters": {},
      "duration": 21.561969,
      "end_time": "2024-12-08T07:59:24.021531",
      "environment_variables": {},
      "exception": null,
      "input_path": "__notebook__.ipynb",
      "output_path": "__notebook__.ipynb",
      "parameters": {},
      "start_time": "2024-12-08T07:59:02.459562",
      "version": "2.6.0"
    },
    "colab": {
      "provenance": []
    }
  },
  "nbformat": 4,
  "nbformat_minor": 5
}