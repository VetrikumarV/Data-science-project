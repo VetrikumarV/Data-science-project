{
  "nbformat": 4,
  "nbformat_minor": 0,
  "metadata": {
    "colab": {
      "provenance": []
    },
    "kernelspec": {
      "name": "python3",
      "display_name": "Python 3"
    },
    "language_info": {
      "name": "python"
    }
  },
  "cells": [
    {
      "cell_type": "code",
      "execution_count": 3,
      "metadata": {
        "colab": {
          "base_uri": "https://localhost:8080/"
        },
        "id": "e2lNJsjiwG8F",
        "outputId": "1c7c6046-3c7c-4681-a49a-60ee43f999cc"
      },
      "outputs": [
        {
          "output_type": "stream",
          "name": "stdout",
          "text": [
            "   review_id                                   review_text  rating  \\\n",
            "0          1    The pizza was amazing and arrived quickly!       5   \n",
            "1          2     Delivery was slow, and the food was cold.       2   \n",
            "2          3  Good food, okay service, average experience.       3   \n",
            "3          4   Loved the pasta! Definitely ordering again.       5   \n",
            "4          5     Horrible service, will never order again.       1   \n",
            "\n",
            "   delivery_time  customer_loyalty_score  total_bill_amount sentiment  \n",
            "0             25                      85                500  Positive  \n",
            "1             45                      40                450  Negative  \n",
            "2             35                      65                600   Neutral  \n",
            "3             20                      90                550  Positive  \n",
            "4             50                      30                400  Negative  \n"
          ]
        }
      ],
      "source": [
        "import pandas as pd\n",
        "\n",
        "# Load the data\n",
        "df = pd.read_csv('restaurant_reviews.csv')\n",
        "\n",
        "# Show first few rows\n",
        "print(df.head())\n",
        "\n"
      ]
    },
    {
      "cell_type": "code",
      "source": [
        "import statsmodels.api as sm\n",
        "import scipy.stats as stats\n",
        "\n",
        "# --- Regression Analysis: Predict Loyalty based on Delivery Time and Bill Amount ---\n",
        "X = df[['delivery_time', 'total_bill_amount']]\n",
        "y = df['customer_loyalty_score']\n",
        "\n",
        "# Add constant\n",
        "X = sm.add_constant(X)\n",
        "\n",
        "# Build model\n",
        "model = sm.OLS(y, X).fit()\n",
        "print(model.summary())\n",
        "\n",
        "# --- Hypothesis Testing: Does fast delivery (<30 mins) affect rating? ---\n",
        "fast_delivery = df[df['delivery_time'] < 30]['rating']\n",
        "slow_delivery = df[df['delivery_time'] >= 30]['rating']\n",
        "\n",
        "# t-test\n",
        "t_stat, p_value = stats.ttest_ind(fast_delivery, slow_delivery)\n",
        "print(f\"T-statistic: {t_stat}, P-value: {p_value}\")\n",
        "\n",
        "if p_value < 0.05:\n",
        "    print(\"✅ Fast delivery significantly impacts ratings!\")\n",
        "else:\n",
        "    print(\"❌ No significant impact of delivery time on ratings.\")\n"
      ],
      "metadata": {
        "colab": {
          "base_uri": "https://localhost:8080/"
        },
        "id": "FBiRsMHgxCTh",
        "outputId": "f053bea9-72c6-4cb9-938e-24db404094f1"
      },
      "execution_count": 4,
      "outputs": [
        {
          "output_type": "stream",
          "name": "stdout",
          "text": [
            "                              OLS Regression Results                              \n",
            "==================================================================================\n",
            "Dep. Variable:     customer_loyalty_score   R-squared:                       0.966\n",
            "Model:                                OLS   Adj. R-squared:                  0.956\n",
            "Method:                     Least Squares   F-statistic:                     97.98\n",
            "Date:                    Mon, 07 Apr 2025   Prob (F-statistic):           7.62e-06\n",
            "Time:                            05:43:42   Log-Likelihood:                -28.285\n",
            "No. Observations:                      10   AIC:                             62.57\n",
            "Df Residuals:                           7   BIC:                             63.48\n",
            "Df Model:                               2                                         \n",
            "Covariance Type:                nonrobust                                         \n",
            "=====================================================================================\n",
            "                        coef    std err          t      P>|t|      [0.025      0.975]\n",
            "-------------------------------------------------------------------------------------\n",
            "const                96.5101     24.886      3.878      0.006      37.664     155.356\n",
            "delivery_time        -1.8105      0.245     -7.397      0.000      -2.389      -1.232\n",
            "total_bill_amount     0.0543      0.036      1.519      0.173      -0.030       0.139\n",
            "==============================================================================\n",
            "Omnibus:                        0.127   Durbin-Watson:                   0.857\n",
            "Prob(Omnibus):                  0.938   Jarque-Bera (JB):                0.181\n",
            "Skew:                          -0.173   Prob(JB):                        0.914\n",
            "Kurtosis:                       2.439   Cond. No.                     8.14e+03\n",
            "==============================================================================\n",
            "\n",
            "Notes:\n",
            "[1] Standard Errors assume that the covariance matrix of the errors is correctly specified.\n",
            "[2] The condition number is large, 8.14e+03. This might indicate that there are\n",
            "strong multicollinearity or other numerical problems.\n",
            "T-statistic: 5.240345836850458, P-value: 0.0007829620404851704\n",
            "✅ Fast delivery significantly impacts ratings!\n"
          ]
        },
        {
          "output_type": "stream",
          "name": "stderr",
          "text": [
            "/usr/local/lib/python3.11/dist-packages/scipy/stats/_axis_nan_policy.py:418: UserWarning: `kurtosistest` p-value may be inaccurate with fewer than 20 observations; only n=10 observations were given.\n",
            "  return hypotest_fun_in(*args, **kwds)\n"
          ]
        }
      ]
    },
    {
      "cell_type": "code",
      "source": [
        "from sklearn.model_selection import train_test_split\n",
        "from sklearn.feature_extraction.text import TfidfVectorizer\n",
        "from sklearn.linear_model import LogisticRegression\n",
        "from sklearn.metrics import accuracy_score, classification_report\n",
        "\n",
        "# Feature and label\n",
        "X = df['review_text']\n",
        "y = df['sentiment']\n",
        "\n",
        "# Vectorize text\n",
        "vectorizer = TfidfVectorizer(max_features=100)\n",
        "X_vectorized = vectorizer.fit_transform(X)\n",
        "\n",
        "# Split into train/test\n",
        "X_train, X_test, y_train, y_test = train_test_split(X_vectorized, y, test_size=0.3, random_state=42)\n",
        "\n",
        "# Train model\n",
        "model = LogisticRegression()\n",
        "model.fit(X_train, y_train)\n",
        "\n",
        "# Predict\n",
        "y_pred = model.predict(X_test)\n",
        "\n",
        "# Evaluate\n",
        "print(f\"Accuracy: {accuracy_score(y_test, y_pred)*100:.2f}%\")\n",
        "print(classification_report(y_test, y_pred))\n"
      ],
      "metadata": {
        "colab": {
          "base_uri": "https://localhost:8080/"
        },
        "id": "UKluCuBGxpMX",
        "outputId": "b125a9b0-b89f-465c-80d7-67023e32c83e"
      },
      "execution_count": 5,
      "outputs": [
        {
          "output_type": "stream",
          "name": "stdout",
          "text": [
            "Accuracy: 33.33%\n",
            "              precision    recall  f1-score   support\n",
            "\n",
            "    Negative       0.00      0.00      0.00         1\n",
            "     Neutral       0.00      0.00      0.00         1\n",
            "    Positive       0.33      1.00      0.50         1\n",
            "\n",
            "    accuracy                           0.33         3\n",
            "   macro avg       0.11      0.33      0.17         3\n",
            "weighted avg       0.11      0.33      0.17         3\n",
            "\n"
          ]
        },
        {
          "output_type": "stream",
          "name": "stderr",
          "text": [
            "/usr/local/lib/python3.11/dist-packages/sklearn/metrics/_classification.py:1565: UndefinedMetricWarning: Precision is ill-defined and being set to 0.0 in labels with no predicted samples. Use `zero_division` parameter to control this behavior.\n",
            "  _warn_prf(average, modifier, f\"{metric.capitalize()} is\", len(result))\n",
            "/usr/local/lib/python3.11/dist-packages/sklearn/metrics/_classification.py:1565: UndefinedMetricWarning: Precision is ill-defined and being set to 0.0 in labels with no predicted samples. Use `zero_division` parameter to control this behavior.\n",
            "  _warn_prf(average, modifier, f\"{metric.capitalize()} is\", len(result))\n",
            "/usr/local/lib/python3.11/dist-packages/sklearn/metrics/_classification.py:1565: UndefinedMetricWarning: Precision is ill-defined and being set to 0.0 in labels with no predicted samples. Use `zero_division` parameter to control this behavior.\n",
            "  _warn_prf(average, modifier, f\"{metric.capitalize()} is\", len(result))\n"
          ]
        }
      ]
    },
    {
      "cell_type": "code",
      "source": [
        "# Create a new feature\n",
        "df['is_fast_delivery'] = df['delivery_time'] < 30\n",
        "\n",
        "# Group by fast delivery\n",
        "summary = df.groupby('is_fast_delivery').agg({\n",
        "    'rating': ['mean', 'count'],\n",
        "    'total_bill_amount': 'mean',\n",
        "    'customer_loyalty_score': 'mean'\n",
        "}).reset_index()\n",
        "\n",
        "# Save it for Tableau\n",
        "summary.to_csv('tableau_summary.csv', index=False)\n",
        "\n",
        "print(\"✅ Tableau data prepared and saved as 'tableau_summary.csv'.\")\n"
      ],
      "metadata": {
        "colab": {
          "base_uri": "https://localhost:8080/"
        },
        "id": "G5HgdWtwxvpn",
        "outputId": "abe05210-9316-481b-f2ab-736a63367acc"
      },
      "execution_count": 6,
      "outputs": [
        {
          "output_type": "stream",
          "name": "stdout",
          "text": [
            "✅ Tableau data prepared and saved as 'tableau_summary.csv'.\n"
          ]
        }
      ]
    },
    {
      "cell_type": "code",
      "source": [],
      "metadata": {
        "id": "U3_KBufux3it"
      },
      "execution_count": null,
      "outputs": []
    }
  ]
}