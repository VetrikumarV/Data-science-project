{
  "nbformat": 4,
  "nbformat_minor": 0,
  "metadata": {
    "colab": {
      "provenance": []
    },
    "kernelspec": {
      "name": "python3",
      "display_name": "Python 3"
    },
    "language_info": {
      "name": "python"
    }
  },
  "cells": [
    {
      "cell_type": "code",
      "source": [
        "import pandas as pd\n",
        "\n",
        "# Load the CSV\n",
        "df = pd.read_csv('restaurant_reviews.csv')\n",
        "\n",
        "# Display the first few rows\n",
        "print(df.head())\n"
      ],
      "metadata": {
        "colab": {
          "base_uri": "https://localhost:8080/"
        },
        "id": "6J16lJXwyie5",
        "outputId": "e648afde-d68d-47fd-8d25-0d6958eba202"
      },
      "execution_count": 1,
      "outputs": [
        {
          "output_type": "stream",
          "name": "stdout",
          "text": [
            "   review_id                                   review_text  rating  \\\n",
            "0          1    The pizza was amazing and arrived quickly!       5   \n",
            "1          2     Delivery was slow, and the food was cold.       2   \n",
            "2          3  Good food, okay service, average experience.       3   \n",
            "3          4   Loved the pasta! Definitely ordering again.       5   \n",
            "4          5     Horrible service, will never order again.       1   \n",
            "\n",
            "   delivery_time  customer_loyalty_score  total_bill_amount sentiment  \n",
            "0             25                      85                500  Positive  \n",
            "1             45                      40                450  Negative  \n",
            "2             35                      65                600   Neutral  \n",
            "3             20                      90                550  Positive  \n",
            "4             50                      30                400  Negative  \n"
          ]
        }
      ]
    },
    {
      "cell_type": "code",
      "source": [
        "from sklearn.model_selection import train_test_split\n",
        "from sklearn.feature_extraction.text import TfidfVectorizer\n",
        "from sklearn.linear_model import LogisticRegression\n",
        "from sklearn.metrics import accuracy_score\n",
        "\n",
        "# Vectorize text\n",
        "vectorizer = TfidfVectorizer()\n",
        "X = vectorizer.fit_transform(df['review_text'])\n",
        "\n",
        "# Labels\n",
        "y = df['sentiment']\n",
        "\n",
        "# Split into train and test\n",
        "X_train, X_test, y_train, y_test = train_test_split(X, y, test_size=0.2, random_state=42)\n",
        "\n",
        "# Model\n",
        "model = LogisticRegression()\n",
        "model.fit(X_train, y_train)\n",
        "\n",
        "# Predict\n",
        "y_pred = model.predict(X_test)\n",
        "\n",
        "# Accuracy\n",
        "print(\"Sentiment Analysis Accuracy:\", accuracy_score(y_test, y_pred))\n"
      ],
      "metadata": {
        "colab": {
          "base_uri": "https://localhost:8080/"
        },
        "id": "3P28NuumyocN",
        "outputId": "cce37e01-c7e8-41d0-85a0-d4286ee7105b"
      },
      "execution_count": 2,
      "outputs": [
        {
          "output_type": "stream",
          "name": "stdout",
          "text": [
            "Sentiment Analysis Accuracy: 0.0\n"
          ]
        }
      ]
    },
    {
      "cell_type": "code",
      "source": [
        "# Train and test on the same data\n",
        "model.fit(X, y)\n",
        "y_pred = model.predict(X)\n",
        "print(\"Accuracy:\", accuracy_score(y, y_pred))\n"
      ],
      "metadata": {
        "colab": {
          "base_uri": "https://localhost:8080/"
        },
        "id": "PdWtSHOby-Dr",
        "outputId": "7bd0efbe-1948-494b-d985-ed35ea1af087"
      },
      "execution_count": 4,
      "outputs": [
        {
          "output_type": "stream",
          "name": "stdout",
          "text": [
            "Accuracy: 1.0\n"
          ]
        }
      ]
    },
    {
      "cell_type": "code",
      "source": [
        "from sklearn.naive_bayes import MultinomialNB\n",
        "\n",
        "model = MultinomialNB()\n",
        "model.fit(X_train, y_train)\n",
        "y_pred = model.predict(X_test)\n",
        "print(\"Accuracy:\", accuracy_score(y_test, y_pred))\n"
      ],
      "metadata": {
        "colab": {
          "base_uri": "https://localhost:8080/"
        },
        "id": "ZL-nPRK7zrJQ",
        "outputId": "90c1fc42-f104-4fe9-ecab-b357e0f76c28"
      },
      "execution_count": 5,
      "outputs": [
        {
          "output_type": "stream",
          "name": "stdout",
          "text": [
            "Accuracy: 0.0\n"
          ]
        }
      ]
    },
    {
      "cell_type": "code",
      "source": [],
      "metadata": {
        "id": "ARk7WU4SzwVB"
      },
      "execution_count": null,
      "outputs": []
    }
  ]
}